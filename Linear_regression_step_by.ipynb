{
 "cells": [
  {
   "cell_type": "code",
   "execution_count": 1,
   "id": "a2f5810a",
   "metadata": {},
   "outputs": [],
   "source": [
    "import pandas as pd \n",
    "import numpy as np"
   ]
  },
  {
   "cell_type": "code",
   "execution_count": 2,
   "id": "40f5236d",
   "metadata": {},
   "outputs": [],
   "source": [
    "df = pd.DataFrame({'x': [0.9,4.11,4.82,8.53,8.9], 'y': [1.91,1.84,4.47,6.38,3.92]})"
   ]
  },
  {
   "cell_type": "code",
   "execution_count": 3,
   "id": "da2db0bb",
   "metadata": {},
   "outputs": [
    {
     "data": {
      "text/html": [
       "<div>\n",
       "<style scoped>\n",
       "    .dataframe tbody tr th:only-of-type {\n",
       "        vertical-align: middle;\n",
       "    }\n",
       "\n",
       "    .dataframe tbody tr th {\n",
       "        vertical-align: top;\n",
       "    }\n",
       "\n",
       "    .dataframe thead th {\n",
       "        text-align: right;\n",
       "    }\n",
       "</style>\n",
       "<table border=\"1\" class=\"dataframe\">\n",
       "  <thead>\n",
       "    <tr style=\"text-align: right;\">\n",
       "      <th></th>\n",
       "      <th>x</th>\n",
       "      <th>y</th>\n",
       "    </tr>\n",
       "  </thead>\n",
       "  <tbody>\n",
       "    <tr>\n",
       "      <th>0</th>\n",
       "      <td>0.90</td>\n",
       "      <td>1.91</td>\n",
       "    </tr>\n",
       "    <tr>\n",
       "      <th>1</th>\n",
       "      <td>4.11</td>\n",
       "      <td>1.84</td>\n",
       "    </tr>\n",
       "    <tr>\n",
       "      <th>2</th>\n",
       "      <td>4.82</td>\n",
       "      <td>4.47</td>\n",
       "    </tr>\n",
       "    <tr>\n",
       "      <th>3</th>\n",
       "      <td>8.53</td>\n",
       "      <td>6.38</td>\n",
       "    </tr>\n",
       "    <tr>\n",
       "      <th>4</th>\n",
       "      <td>8.90</td>\n",
       "      <td>3.92</td>\n",
       "    </tr>\n",
       "  </tbody>\n",
       "</table>\n",
       "</div>"
      ],
      "text/plain": [
       "      x     y\n",
       "0  0.90  1.91\n",
       "1  4.11  1.84\n",
       "2  4.82  4.47\n",
       "3  8.53  6.38\n",
       "4  8.90  3.92"
      ]
     },
     "execution_count": 3,
     "metadata": {},
     "output_type": "execute_result"
    }
   ],
   "source": [
    "df "
   ]
  },
  {
   "cell_type": "code",
   "execution_count": 4,
   "id": "d5805df5",
   "metadata": {},
   "outputs": [
    {
     "data": {
      "text/plain": [
       "<AxesSubplot:xlabel='x', ylabel='y'>"
      ]
     },
     "execution_count": 4,
     "metadata": {},
     "output_type": "execute_result"
    },
    {
     "data": {
      "image/png": "[encoded data removed]",
      "text/plain": [
       "<Figure size 432x288 with 1 Axes>"
      ]
     },
     "metadata": {
      "needs_background": "light"
     },
     "output_type": "display_data"
    }
   ],
   "source": [
    "df.plot(x='x',y='y', kind='scatter') "
   ]
  },
  {
   "cell_type": "code",
   "execution_count": 8,
   "id": "3e64bb53",
   "metadata": {},
   "outputs": [],
   "source": [
    "from matplotlib import pyplot as plt"
   ]
  },
  {
   "cell_type": "code",
   "execution_count": 9,
   "id": "ad579e1a",
   "metadata": {},
   "outputs": [
    {
     "data": {
      "text/plain": [
       "[<matplotlib.lines.Line2D at 0x1a8947e94c0>]"
      ]
     },
     "execution_count": 9,
     "metadata": {},
     "output_type": "execute_result"
    },
    {
     "data": {
      "image/png": "[encoded data removed]",
      "text/plain": [
       "<Figure size 432x288 with 1 Axes>"
      ]
     },
     "metadata": {
      "needs_background": "light"
     },
     "output_type": "display_data"
    }
   ],
   "source": [
    "plt.scatter(df['x'], df['y']) \n",
    "plt.plot(df['x'], df['y_pred']) "
   ]
  },
  {
   "cell_type": "markdown",
   "id": "b332a792",
   "metadata": {},
   "source": [
    "# Наш алгоритм численный метод для абсолютных отклонений"
   ]
  },
  {
   "cell_type": "code",
   "execution_count": 15,
   "id": "b4526ea7",
   "metadata": {
    "collapsed": true
   },
   "outputs": [
    {
     "name": "stdout",
     "output_type": "stream",
     "text": [
      "0.7144232000000005\n",
      "2.028846400000001\n",
      "1.9597056000000002\n",
      "1.890564800000001\n",
      "1.821424000000001\n",
      "1.7522832000000015\n",
      "1.6831424000000013\n",
      "1.6140016000000017\n",
      "1.5448608000000017\n",
      "1.475720000000002\n",
      "1.4065792000000017\n",
      "1.3374384000000021\n",
      "1.2682976000000024\n",
      "2.0798520000000025\n",
      "2.010711200000003\n",
      "1.9415704000000027\n",
      "1.8724296000000027\n",
      "1.803288800000003\n",
      "1.7341480000000034\n",
      "1.6650072000000038\n",
      "1.5958664000000033\n",
      "1.5267256000000038\n",
      "1.457584800000004\n",
      "1.388444000000004\n",
      "1.319303200000004\n",
      "1.2501624000000044\n",
      "2.0617168000000046\n",
      "1.9925760000000046\n",
      "1.9234352000000043\n",
      "1.8542944000000048\n",
      "1.785153600000005\n",
      "1.716012800000005\n",
      "1.6468720000000054\n",
      "1.5777312000000054\n",
      "1.5085904000000057\n",
      "1.4394496000000059\n",
      "1.3703088000000063\n",
      "1.3011680000000063\n",
      "1.232027200000006\n",
      "2.0435816000000067\n",
      "1.9744408000000067\n",
      "1.9053000000000069\n",
      "1.8361592000000073\n",
      "1.767018400000007\n",
      "1.6978776000000066\n",
      "1.6287368000000075\n",
      "1.5595960000000075\n",
      "1.4904552000000078\n",
      "1.4213144000000077\n",
      "1.352173600000008\n",
      "1.2830328000000084\n",
      "1.2138920000000084\n",
      "2.1291024000000087\n",
      "2.059961600000009\n",
      "1.9908208000000087\n",
      "1.9216800000000092\n",
      "1.8525392000000092\n",
      "1.7833984000000094\n",
      "1.7142576000000098\n",
      "1.6451168000000096\n",
      "1.5759760000000098\n",
      "1.50683520000001\n",
      "1.54135040000001\n",
      "1.4722096000000104\n",
      "1.5067248000000106\n",
      "1.541240000000011\n",
      "1.472099200000011\n",
      "1.5066144000000115\n",
      "1.4374736000000117\n",
      "1.4719888000000116\n",
      "1.4028480000000116\n",
      "1.4373632000000125\n",
      "1.4718784000000125\n",
      "1.4027376000000127\n",
      "1.437252800000013\n",
      "1.368112000000013\n",
      "1.4026272000000135\n",
      "1.4371424000000137\n",
      "1.368001600000014\n",
      "1.402516800000014\n",
      "1.3333760000000143\n",
      "1.3678912000000145\n",
      "1.2987504000000145\n",
      "1.333265600000015\n",
      "1.367780800000015\n",
      "1.2986400000000153\n",
      "1.3331552000000155\n",
      "1.2640144000000155\n",
      "2.1792248000000156\n",
      "2.110084000000016\n",
      "2.040943200000016\n",
      "1.9718024000000163\n",
      "1.9026616000000165\n",
      "1.8335208000000165\n",
      "1.764380000000017\n",
      "1.695239200000017\n",
      "1.6260984000000172\n",
      "1.5569576000000172\n",
      "1.5914728000000178\n",
      "1.625988000000018\n"
     ]
    }
   ],
   "source": [
    "# изначальные значения\n",
    "m,b = 1,1 \n",
    "#Глубина шага нашего поиска\n",
    "n = 100\n",
    "#это наш бернинг рейт\n",
    "nu = 0.05\n",
    "\n",
    "#обнуляю датасет\n",
    "df = df[['x','y']].copy()\n",
    "df['y_pred'] = df['x'] * m + b\n",
    "\n",
    "for i in range(n):\n",
    "# здесь важно поместить формулы m = это то как изменяется наша линия по отношению к оси x (вращение)\n",
    "# а также b это то как она приближается или отдаляется\n",
    "# м - зависит от количества фичей\n",
    "    df['m_change'] = df['x'] * np.sign(df['y'] - df['y_pred'])\n",
    "    df['b_change'] = np.sign(df['y'] - df['y_pred'])\n",
    "    \n",
    " # здесь ищем c помощью бернинг рейта наше значение m и b\n",
    "    m = m + nu * df['m_change'].mean()\n",
    "    b = b + nu * df['b_change'].mean()\n",
    "    \n",
    "# наш предикт\n",
    "    df['y_pred'] = df['x'] * m + b\n",
    "    \n",
    "# вычисляем ошибку   \n",
    "    df['err_abs'] = np.abs(df['x'] - df['y_pred'])\n",
    "    print(df['err_abs'].mean())\n",
    "    \n",
    "    "
   ]
  },
  {
   "cell_type": "code",
   "execution_count": 18,
   "id": "252561a4",
   "metadata": {},
   "outputs": [
    {
     "name": "stdout",
     "output_type": "stream",
     "text": [
      "0.5109999999999965 1.4400000000000004\n"
     ]
    },
    {
     "data": {
      "image/png": "[encoded data removed]",
      "text/plain": [
       "<Figure size 432x288 with 1 Axes>"
      ]
     },
     "metadata": {
      "needs_background": "light"
     },
     "output_type": "display_data"
    }
   ],
   "source": [
    "plt.scatter(df['x'], df['y']) \n",
    "plt.plot(df['x'], df['y_pred']) \n",
    "print(m,b)"
   ]
  },
  {
   "cell_type": "code",
   "execution_count": 19,
   "id": "f919a6eb",
   "metadata": {},
   "outputs": [
    {
     "data": {
      "text/html": [
       "<div>\n",
       "<style scoped>\n",
       "    .dataframe tbody tr th:only-of-type {\n",
       "        vertical-align: middle;\n",
       "    }\n",
       "\n",
       "    .dataframe tbody tr th {\n",
       "        vertical-align: top;\n",
       "    }\n",
       "\n",
       "    .dataframe thead th {\n",
       "        text-align: right;\n",
       "    }\n",
       "</style>\n",
       "<table border=\"1\" class=\"dataframe\">\n",
       "  <thead>\n",
       "    <tr style=\"text-align: right;\">\n",
       "      <th></th>\n",
       "      <th>x</th>\n",
       "      <th>y</th>\n",
       "      <th>y_pred</th>\n",
       "      <th>m_change</th>\n",
       "      <th>b_change</th>\n",
       "      <th>err_abs</th>\n",
       "    </tr>\n",
       "  </thead>\n",
       "  <tbody>\n",
       "    <tr>\n",
       "      <th>0</th>\n",
       "      <td>0.90</td>\n",
       "      <td>1.91</td>\n",
       "      <td>1.89990</td>\n",
       "      <td>-0.90</td>\n",
       "      <td>-1.0</td>\n",
       "      <td>0.99990</td>\n",
       "    </tr>\n",
       "    <tr>\n",
       "      <th>1</th>\n",
       "      <td>4.11</td>\n",
       "      <td>1.84</td>\n",
       "      <td>3.54021</td>\n",
       "      <td>-4.11</td>\n",
       "      <td>-1.0</td>\n",
       "      <td>0.56979</td>\n",
       "    </tr>\n",
       "    <tr>\n",
       "      <th>2</th>\n",
       "      <td>4.82</td>\n",
       "      <td>4.47</td>\n",
       "      <td>3.90302</td>\n",
       "      <td>4.82</td>\n",
       "      <td>1.0</td>\n",
       "      <td>0.91698</td>\n",
       "    </tr>\n",
       "    <tr>\n",
       "      <th>3</th>\n",
       "      <td>8.53</td>\n",
       "      <td>6.38</td>\n",
       "      <td>5.79883</td>\n",
       "      <td>8.53</td>\n",
       "      <td>1.0</td>\n",
       "      <td>2.73117</td>\n",
       "    </tr>\n",
       "    <tr>\n",
       "      <th>4</th>\n",
       "      <td>8.90</td>\n",
       "      <td>3.92</td>\n",
       "      <td>5.98790</td>\n",
       "      <td>-8.90</td>\n",
       "      <td>-1.0</td>\n",
       "      <td>2.91210</td>\n",
       "    </tr>\n",
       "  </tbody>\n",
       "</table>\n",
       "</div>"
      ],
      "text/plain": [
       "      x     y   y_pred  m_change  b_change  err_abs\n",
       "0  0.90  1.91  1.89990     -0.90      -1.0  0.99990\n",
       "1  4.11  1.84  3.54021     -4.11      -1.0  0.56979\n",
       "2  4.82  4.47  3.90302      4.82       1.0  0.91698\n",
       "3  8.53  6.38  5.79883      8.53       1.0  2.73117\n",
       "4  8.90  3.92  5.98790     -8.90      -1.0  2.91210"
      ]
     },
     "execution_count": 19,
     "metadata": {},
     "output_type": "execute_result"
    }
   ],
   "source": [
    "df "
   ]
  },
  {
   "cell_type": "code",
   "execution_count": 24,
   "id": "77217fb0",
   "metadata": {},
   "outputs": [],
   "source": [
    "df['x0'] = 1"
   ]
  },
  {
   "cell_type": "markdown",
   "id": "5497758d",
   "metadata": {},
   "source": [
    "## Модель"
   ]
  },
  {
   "cell_type": "code",
   "execution_count": 39,
   "id": "dd2e1e1b",
   "metadata": {},
   "outputs": [],
   "source": [
    "from sklearn.linear_model import SGDRegressor"
   ]
  },
  {
   "cell_type": "code",
   "execution_count": 40,
   "id": "b0636dfd",
   "metadata": {},
   "outputs": [],
   "source": [
    "gd = SGDRegressor()"
   ]
  },
  {
   "cell_type": "code",
   "execution_count": 43,
   "id": "718d0150",
   "metadata": {},
   "outputs": [
    {
     "data": {
      "text/plain": [
       "SGDRegressor()"
      ]
     },
     "execution_count": 43,
     "metadata": {},
     "output_type": "execute_result"
    }
   ],
   "source": [
    "gd.fit(df[['x']], df['y']) "
   ]
  },
  {
   "cell_type": "code",
   "execution_count": 45,
   "id": "5f15311e",
   "metadata": {},
   "outputs": [
    {
     "data": {
      "text/plain": [
       "array([0.53115647])"
      ]
     },
     "execution_count": 45,
     "metadata": {},
     "output_type": "execute_result"
    }
   ],
   "source": [
    "gd.coef_"
   ]
  },
  {
   "cell_type": "code",
   "execution_count": 47,
   "id": "66368307",
   "metadata": {},
   "outputs": [
    {
     "data": {
      "text/plain": [
       "0    0.432780\n",
       "1    1.344486\n",
       "dtype: float64"
      ]
     },
     "execution_count": 47,
     "metadata": {},
     "output_type": "execute_result"
    }
   ],
   "source": [
    "gd.intercept_\n",
    "theta"
   ]
  },
  {
   "cell_type": "code",
   "execution_count": 48,
   "id": "43cd9c8f",
   "metadata": {},
   "outputs": [
    {
     "data": {
      "text/plain": [
       "[<matplotlib.lines.Line2D at 0x1a89a8bc6d0>]"
      ]
     },
     "execution_count": 48,
     "metadata": {},
     "output_type": "execute_result"
    },
    {
     "data": {
      "image/png": "[encoded data removed]",
      "text/plain": [
       "<Figure size 432x288 with 1 Axes>"
      ]
     },
     "metadata": {
      "needs_background": "light"
     },
     "output_type": "display_data"
    }
   ],
   "source": [
    "df['gd_pred'] = gd.predict(df[['x']]) \n",
    "\n",
    "plt.scatter(df['x'], df['y']) \n",
    "plt.plot(df['x'], df['y_pred'])"
   ]
  },
  {
   "cell_type": "markdown",
   "id": "6addab5f",
   "metadata": {},
   "source": [
    "# Аналитическое решение используются квадраты"
   ]
  },
  {
   "cell_type": "code",
   "execution_count": 30,
   "id": "7b9f1d8b",
   "metadata": {},
   "outputs": [
    {
     "name": "stdout",
     "output_type": "stream",
     "text": [
      "0    0.432780\n",
      "1    1.344486\n",
      "dtype: float64\n"
     ]
    }
   ],
   "source": [
    "# на вход необходимо паавать 2 значения\n",
    "XT= df[['x', 'x0']].T\n",
    "XTX=XT@df[['x','x0']]\n",
    "inv=np.linalg.pinv(XTX)\n",
    "theta=(inv@XT)@df['y']\n",
    "print(theta)"
   ]
  },
  {
   "cell_type": "code",
   "execution_count": 31,
   "id": "c82b23b7",
   "metadata": {},
   "outputs": [],
   "source": [
    "from sklearn.linear_model import LinearRegression"
   ]
  },
  {
   "cell_type": "code",
   "execution_count": 33,
   "id": "37e19646",
   "metadata": {},
   "outputs": [],
   "source": [
    "model = LinearRegression()"
   ]
  },
  {
   "cell_type": "code",
   "execution_count": 35,
   "id": "b6cca9cd",
   "metadata": {},
   "outputs": [
    {
     "data": {
      "text/plain": [
       "LinearRegression()"
      ]
     },
     "execution_count": 35,
     "metadata": {},
     "output_type": "execute_result"
    }
   ],
   "source": [
    "# важноставить две скобки потому что так мы создаем датафрейм\n",
    "model.fit(df[['x']],df[['y']])"
   ]
  },
  {
   "cell_type": "code",
   "execution_count": 37,
   "id": "a656f435",
   "metadata": {},
   "outputs": [
    {
     "data": {
      "text/plain": [
       "array([[0.4327796]])"
      ]
     },
     "execution_count": 37,
     "metadata": {},
     "output_type": "execute_result"
    }
   ],
   "source": [
    "# m  коэфициенты \n",
    "model.coef_"
   ]
  },
  {
   "cell_type": "code",
   "execution_count": 38,
   "id": "7c43729d",
   "metadata": {},
   "outputs": [
    {
     "data": {
      "text/plain": [
       "array([1.34448561])"
      ]
     },
     "execution_count": 38,
     "metadata": {},
     "output_type": "execute_result"
    }
   ],
   "source": [
    "# b - пересечение с y\n",
    "model.intercept_"
   ]
  },
  {
   "cell_type": "code",
   "execution_count": null,
   "id": "8b781bc4",
   "metadata": {},
   "outputs": [],
   "source": []
  }
 ],
 "metadata": {
  "kernelspec": {
   "display_name": "Python 3 (ipykernel)",
   "language": "python",
   "name": "python3"
  },
  "language_info": {
   "codemirror_mode": {
    "name": "ipython",
    "version": 3
   },
   "file_extension": ".py",
   "mimetype": "text/x-python",
   "name": "python",
   "nbconvert_exporter": "python",
   "pygments_lexer": "ipython3",
   "version": "3.9.7"
  },
  "varInspector": {
   "cols": {
    "lenName": 16,
    "lenType": 16,
    "lenVar": 40
   },
   "kernels_config": {
    "python": {
     "delete_cmd_postfix": "",
     "delete_cmd_prefix": "del ",
     "library": "var_list.py",
     "varRefreshCmd": "print(var_dic_list())"
    },
    "r": {
     "delete_cmd_postfix": ") ",
     "delete_cmd_prefix": "rm(",
     "library": "var_list.r",
     "varRefreshCmd": "cat(var_dic_list()) "
    }
   },
   "types_to_exclude": [
    "module",
    "function",
    "builtin_function_or_method",
    "instance",
    "_Feature"
   ],
   "window_display": false
  }
 },
 "nbformat": 4,
 "nbformat_minor": 5
}
